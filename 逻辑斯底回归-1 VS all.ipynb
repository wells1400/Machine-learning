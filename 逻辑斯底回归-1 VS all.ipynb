{
 "cells": [
  {
   "cell_type": "code",
   "execution_count": null,
   "metadata": {},
   "outputs": [],
   "source": [
    "import struct\n",
    "import math\n",
    "from array import array\n",
    "import numpy as np\n",
    "import pandas as pd\n",
    "from PIL import Image\n",
    "import matplotlib.pyplot as plt\n",
    "%matplotlib inline\n",
    "\n",
    "import random\n",
    "\n",
    "from skimage import feature as ft\n",
    "from sklearn.cross_validation import train_test_split\n",
    "from sklearn.metrics import accuracy_score"
   ]
  },
  {
   "cell_type": "code",
   "execution_count": null,
   "metadata": {},
   "outputs": [],
   "source": [
    "#标签读取\n",
    "def read_MNIST_lable(location):\n",
    "    with open(location, \"rb\") as f:\n",
    "        magic, size = struct.unpack(\">II\", f.read(8))\n",
    "        labels = array(\"B\", f.read())\n",
    "        labels = np.array(labels,dtype='int32')\n",
    "    return magic, size, labels\n",
    "\n",
    "#图片读取\n",
    "def read_MNIST_Pics(location):\n",
    "    with open(location, \"rb\") as f:\n",
    "        magic, size, rows, cols = struct.unpack(\">IIII\", f.read(16))\n",
    "        image_data = array(\"B\", f.read())\n",
    "        images = []\n",
    "        for i in range(size):\n",
    "            images.append([0] * rows * cols)\n",
    "        for i in range(size):\n",
    "            images[i][:] = image_data[i * rows * cols:(i + 1) * rows * cols]\n",
    "        shape = (rows,cols)\n",
    "        image_frame = pd.DataFrame(images,columns=['Pixel'+str(i) for i in range(784)])\n",
    "    return magic,shape,image_frame\n",
    "\n",
    "#图片显示            \n",
    "def show_MNIST_pics(image_df,sele_index,shape,num):\n",
    "    for i in range(num):\n",
    "        plt.subplot(5,num/5+1,i+1)\n",
    "        img = np.array(image_df.loc[sele_index[i],:],dtype='int32')\n",
    "        img = img.reshape(shape[0],shape[1])\n",
    "        img = Image.fromarray(img)\n",
    "        plt.imshow(img, cmap='gray')\n",
    "        plt.axis(\"off\")"
   ]
  },
  {
   "cell_type": "code",
   "execution_count": null,
   "metadata": {},
   "outputs": [],
   "source": [
    "magic,size,labels = read_MNIST_lable('Y:/Kaggle/统计学习方法代码/train-labels.idx1-ubyte')\n",
    "magic1,shape,image_frame = read_MNIST_Pics('Y:/Kaggle/统计学习方法代码/train-images.idx3-ubyte')"
   ]
  },
  {
   "cell_type": "code",
   "execution_count": null,
   "metadata": {
    "scrolled": true
   },
   "outputs": [],
   "source": [
    "image_frame.head()"
   ]
  },
  {
   "cell_type": "code",
   "execution_count": null,
   "metadata": {},
   "outputs": [],
   "source": [
    "labels"
   ]
  },
  {
   "cell_type": "code",
   "execution_count": null,
   "metadata": {},
   "outputs": [],
   "source": [
    "num = 23\n",
    "sele_index = np.random.randint(1,60000,num)\n",
    "show_MNIST_pics(image_frame.loc[sele_index,:],sele_index,shape,num)"
   ]
  },
  {
   "cell_type": "code",
   "execution_count": null,
   "metadata": {},
   "outputs": [],
   "source": [
    "# 抽取HOG特征并转成dataframe\n",
    "def get_hog(img_df):\n",
    "    image_value = img_df.get_values()\n",
    "    features = []\n",
    "    for i in range(img_df.shape[0]):\n",
    "        features.append(ft.hog(image_value[i].reshape(28,28),  # input image\n",
    "                  orientations=9,  # number of bins\n",
    "                  pixels_per_cell=(7,7), # pixel per cell\n",
    "                  cells_per_block=(2,2), # cells per blcok\n",
    "                  block_norm = 'L2-Hys', #  block norm : str {‘L1’, ‘L1-sqrt’, ‘L2’, ‘L2-Hys’}\n",
    "                  transform_sqrt = True, # power law compression (also known as gamma correction)\n",
    "                  feature_vector=True, # flatten the final vectors\n",
    "                  visualise=False)) # return HOG map\n",
    "    return pd.DataFrame(features,columns=['Fture_'+str(i) for i in range(324)])"
   ]
  },
  {
   "cell_type": "code",
   "execution_count": null,
   "metadata": {},
   "outputs": [],
   "source": [
    "#定义逻辑斯底回归模型\n",
    "class LogisticRegression(object):\n",
    "\n",
    "    def __init__(self):\n",
    "        #初始化学习率和迭代次数\n",
    "        self.learning_step = 0.00001\n",
    "        self.max_iteration = 8000\n",
    "\n",
    "    def predict_y(self,x):\n",
    "        #计算经验y，用于模型训练\n",
    "        wx = np.dot(self.w,x)\n",
    "        exp_wx = math.exp(wx)\n",
    "        \n",
    "        predict1 = exp_wx / (1 + exp_wx)\n",
    "        predict0 = 1 / (1 + exp_wx)\n",
    "        if predict1 > predict0:\n",
    "            return 1\n",
    "        else:\n",
    "            return 0\n",
    "\n",
    "\n",
    "    def train(self,features, labels):\n",
    "        #features应该是M*N矩阵\n",
    "        self.w = np.zeros(features.shape[1] + 1)\n",
    "\n",
    "        correct_count = 0\n",
    "        learnig_times = 0\n",
    "\n",
    "        while learnig_times < self.max_iteration:\n",
    "            index = random.randint(0, len(labels) - 1)\n",
    "            x = list(features[index])\n",
    "            x.append(1.0)\n",
    "            y = labels[index]\n",
    "\n",
    "            if y == self.predict_y(x):\n",
    "                correct_count += 1\n",
    "                #全部正确分类时停止训练\n",
    "                if correct_count > self.max_iteration:\n",
    "                    break\n",
    "                continue\n",
    "\n",
    "            learnig_times += 1\n",
    "            correct_count = 0\n",
    "\n",
    "            wx = np.dot(self.w,x)\n",
    "            exp_wx = math.exp(wx)\n",
    "            \n",
    "            self.w += self.learning_step * (np.dot(x,y) - np.dot(x,exp_wx)/(1+exp_wx))\n",
    "            print('训练完成度：',learnig_times/self.max_iteration*100)\n",
    "        return self.w\n",
    "    \n",
    "    def predict(self,features):\n",
    "        labels = []\n",
    "        \n",
    "        for index in range(features.shape[0]):\n",
    "            x = list(features[index])\n",
    "            x.append(1)\n",
    "            labels.append(self.predict_y(x))\n",
    "\n",
    "        return labels"
   ]
  },
  {
   "cell_type": "code",
   "execution_count": null,
   "metadata": {},
   "outputs": [],
   "source": [
    "hog_df = get_hog(image_frame)"
   ]
  },
  {
   "cell_type": "code",
   "execution_count": null,
   "metadata": {},
   "outputs": [],
   "source": [
    "#拆分训练集，验证集\n",
    "train_features_df, test_features_df, train_labels, test_labels = train_test_split(hog_df, \n",
    "                                                                            labels, \n",
    "                                                                            test_size=0.4,\n",
    "                                                                            random_state=0)"
   ]
  },
  {
   "cell_type": "code",
   "execution_count": null,
   "metadata": {},
   "outputs": [],
   "source": [
    "# one vs all 训练模型\n",
    "def train_one_vs_all(train_features_df,train_labels):\n",
    "    module_container = []\n",
    "    for num in range(10):\n",
    "        labels_trans = np.where(train_labels==num,1,0)\n",
    "        logistic_reg = LogisticRegression()\n",
    "        module_container.append(logistic_reg.train(train_features_df.get_values(),labels_trans))\n",
    "        print('第%d个模型训练完成'%(num+1))\n",
    "    return np.array(module_container)\n",
    "\n",
    "def predict_one_vs_all(module_container,test_features_df,test_labels):\n",
    "    test_features_df['plusone'] = 1\n",
    "    result_matrix = np.zeros((test_features_df.shape[0],10))\n",
    "    result_matrix = np.dot(test_features_df.get_values(), module_container.transpose())\n",
    "    result = np.argmax(result_matrix,axis=1)\n",
    "    return result"
   ]
  },
  {
   "cell_type": "code",
   "execution_count": null,
   "metadata": {},
   "outputs": [],
   "source": [
    "module_container = train_one_vs_all(train_features_df,train_labels)"
   ]
  },
  {
   "cell_type": "code",
   "execution_count": null,
   "metadata": {
    "scrolled": true
   },
   "outputs": [],
   "source": [
    "predict = predict_one_vs_all(module_container,test_features_df,test_labels)\n",
    "score = accuracy_score(predict, test_labels)\n",
    "score"
   ]
  },
  {
   "cell_type": "code",
   "execution_count": null,
   "metadata": {},
   "outputs": [],
   "source": []
  },
  {
   "cell_type": "code",
   "execution_count": null,
   "metadata": {},
   "outputs": [],
   "source": []
  },
  {
   "cell_type": "code",
   "execution_count": null,
   "metadata": {},
   "outputs": [],
   "source": []
  }
 ],
 "metadata": {
  "kernelspec": {
   "display_name": "Python 3",
   "language": "python",
   "name": "python3"
  },
  "language_info": {
   "codemirror_mode": {
    "name": "ipython",
    "version": 3
   },
   "file_extension": ".py",
   "mimetype": "text/x-python",
   "name": "python",
   "nbconvert_exporter": "python",
   "pygments_lexer": "ipython3",
   "version": "3.6.4"
  }
 },
 "nbformat": 4,
 "nbformat_minor": 2
}
